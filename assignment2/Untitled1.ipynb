{
 "cells": [
  {
   "cell_type": "code",
   "execution_count": 2,
   "metadata": {
    "collapsed": true
   },
   "outputs": [],
   "source": [
    "import numpy as np"
   ]
  },
  {
   "cell_type": "code",
   "execution_count": 34,
   "metadata": {
    "collapsed": false
   },
   "outputs": [
    {
     "name": "stdout",
     "output_type": "stream",
     "text": [
      "[1 2 5 4]\n"
     ]
    }
   ],
   "source": [
    "a=np.array([[1,2,5,4,3],[5,8,4,6,2]])\n",
    "b=np.pad(a,((2,2),(0,0)),'constant')\n",
    "print a[0][0:0+4]"
   ]
  },
  {
   "cell_type": "code",
   "execution_count": 3,
   "metadata": {
    "collapsed": false
   },
   "outputs": [
    {
     "name": "stdout",
     "output_type": "stream",
     "text": [
      "[[[1 2 3 4]\n",
      "  [5 2 8 4]]\n",
      "\n",
      " [[7 5 4 1]\n",
      "  [9 5 1 2]]\n",
      "\n",
      " [[9 5 4 8]\n",
      "  [5 1 2 0]]] (3, 2, 4)\n"
     ]
    }
   ],
   "source": [
    "ddd=np.array([[[1,2,3,4],[5,2,8,4]],[[7,5,4,1],[9,5,1,2]],[[9,5,4,8],[5,1,2,0]]])\n",
    "print ddd, ddd.shape"
   ]
  },
  {
   "cell_type": "code",
   "execution_count": 10,
   "metadata": {
    "collapsed": false
   },
   "outputs": [
    {
     "name": "stdout",
     "output_type": "stream",
     "text": [
      "[[ 5.66666667  4.          3.66666667  4.33333333]\n",
      " [ 6.33333333  2.66666667  3.66666667  2.        ]]\n"
     ]
    }
   ],
   "source": [
    "print np.mean(ddd,axis=0)"
   ]
  },
  {
   "cell_type": "code",
   "execution_count": 35,
   "metadata": {
    "collapsed": false
   },
   "outputs": [
    {
     "name": "stdout",
     "output_type": "stream",
     "text": [
      "[[7 5 4 1]\n",
      " [9 5 1 2]]\n"
     ]
    }
   ],
   "source": [
    "print max(dd)"
   ]
  },
  {
   "cell_type": "code",
   "execution_count": null,
   "metadata": {
    "collapsed": true
   },
   "outputs": [],
   "source": []
  }
 ],
 "metadata": {
  "anaconda-cloud": {},
  "kernelspec": {
   "display_name": "Python [default]",
   "language": "python",
   "name": "python2"
  },
  "language_info": {
   "codemirror_mode": {
    "name": "ipython",
    "version": 2
   },
   "file_extension": ".py",
   "mimetype": "text/x-python",
   "name": "python",
   "nbconvert_exporter": "python",
   "pygments_lexer": "ipython2",
   "version": "2.7.12"
  }
 },
 "nbformat": 4,
 "nbformat_minor": 1
}
